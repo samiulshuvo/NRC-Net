{
 "cells": [
  {
   "cell_type": "code",
   "execution_count": 1,
   "metadata": {
    "execution": {
     "iopub.execute_input": "2023-01-22T06:30:36.434098Z",
     "iopub.status.busy": "2023-01-22T06:30:36.433638Z",
     "iopub.status.idle": "2023-01-22T06:30:36.447209Z",
     "shell.execute_reply": "2023-01-22T06:30:36.445746Z",
     "shell.execute_reply.started": "2023-01-22T06:30:36.434053Z"
    }
   },
   "outputs": [],
   "source": [
    "from keras import backend as bknd\n",
    "from keras.callbacks import *\n",
    "from keras.layers import *\n",
    "from keras.models import *\n",
    "from keras.optimizers import SGD\n",
    "from keras.utils import *\n",
    "\n",
    "from keras.callbacks import ModelCheckpoint\n",
    "from keras.callbacks import TensorBoard\n",
    "#from stn import spatial_transformer_network as transformer\n",
    "\n",
    "import numpy as np\n",
    "import keras\n",
    "import numpy as np\n",
    "from tensorflow.keras.applications.vgg16 import VGG16\n",
    "from tensorflow.keras.applications.vgg16 import preprocess_input\n",
    "from tensorflow.keras.models import Model, Sequential\n",
    "from tensorflow.keras.preprocessing.image import ImageDataGenerator\n",
    "from tensorflow.keras.optimizers import Adam,SGD\n",
    "from tensorflow.keras.layers import Dense, Conv2D, MaxPool2D , Flatten,concatenate \n",
    "from tensorflow.keras.losses import categorical_crossentropy\n",
    "from tensorflow.keras.callbacks import ModelCheckpoint, EarlyStopping\n",
    "from tensorflow.keras import metrics\n",
    "\n",
    "from sklearn.utils import class_weight\n",
    "from collections import Counter\n",
    "\n",
    "import matplotlib.pyplot as plt\n",
    "\n",
    "from os import listdir\n",
    "from os.path import isfile, join\n",
    "\n",
    "import pandas as pd\n",
    "#from STN.spatial_transformer import SpatialTransformer"
   ]
  },
  {
   "cell_type": "code",
   "execution_count": 2,
   "metadata": {
    "execution": {
     "iopub.execute_input": "2023-01-22T06:30:36.450300Z",
     "iopub.status.busy": "2023-01-22T06:30:36.449600Z",
     "iopub.status.idle": "2023-01-22T06:30:36.463709Z",
     "shell.execute_reply": "2023-01-22T06:30:36.461316Z",
     "shell.execute_reply.started": "2023-01-22T06:30:36.450259Z"
    }
   },
   "outputs": [],
   "source": [
    "# help expand\n"
   ]
  },
  {
   "cell_type": "code",
   "execution_count": 3,
   "metadata": {
    "execution": {
     "iopub.status.busy": "2023-01-22T06:30:36.465033Z",
     "iopub.status.idle": "2023-01-22T06:30:36.465647Z"
    },
    "id": "ouCJl6SsvOOJ"
   },
   "outputs": [],
   "source": [
    "# spec_train_path = '../input/modified-mfcc-40/train/train'\n",
    "# # spec_train_path_0db = '/content/gdrive/MyDrive/Spectogram7000_0db/train'\n",
    "# spec_val_path = '../input/modified-mfcc-40/val/val_0'"
   ]
  },
  {
   "cell_type": "code",
   "execution_count": 4,
   "metadata": {
    "execution": {
     "iopub.status.busy": "2023-01-22T06:30:36.467761Z",
     "iopub.status.idle": "2023-01-22T06:30:36.468616Z"
    },
    "id": "Q2A4PEzhwHJp"
   },
   "outputs": [],
   "source": [
    "import keras,os\n",
    "from keras.preprocessing.image import ImageDataGenerator\n",
    "import numpy as np"
   ]
  },
  {
   "cell_type": "code",
   "execution_count": 5,
   "metadata": {
    "execution": {
     "iopub.status.busy": "2023-01-22T06:30:36.908108Z",
     "iopub.status.idle": "2023-01-22T06:30:36.908549Z"
    },
    "id": "ANOzvq26bzL9",
    "outputId": "c0ecac3b-c8d8-4bca-eb57-a4ccbe919223"
   },
   "outputs": [],
   "source": [
    "# VGG.input"
   ]
  },
  {
   "cell_type": "code",
   "execution_count": 6,
   "metadata": {
    "execution": {
     "iopub.status.busy": "2023-01-22T06:30:36.909814Z",
     "iopub.status.idle": "2023-01-22T06:30:36.910560Z"
    },
    "id": "Sz47z4sAbc9v"
   },
   "outputs": [],
   "source": [
    "# model = keras.models.Model(inputs = VGG.input,outputs = prediction)"
   ]
  },
  {
   "cell_type": "code",
   "execution_count": 7,
   "metadata": {
    "execution": {
     "iopub.status.busy": "2023-01-22T06:30:36.911878Z",
     "iopub.status.idle": "2023-01-22T06:30:36.912596Z"
    },
    "id": "WZ_m__hCycWO",
    "outputId": "4331dfa1-c04a-419f-b079-3de4ef38a75f"
   },
   "outputs": [],
   "source": [
    "# model.summary()"
   ]
  },
  {
   "cell_type": "code",
   "execution_count": null,
   "metadata": {},
   "outputs": [],
   "source": []
  },
  {
   "cell_type": "code",
   "execution_count": 8,
   "metadata": {
    "execution": {
     "iopub.status.busy": "2023-01-22T06:30:36.913969Z",
     "iopub.status.idle": "2023-01-22T06:30:36.915533Z"
    },
    "id": "6-lrpXU3cn0c"
   },
   "outputs": [],
   "source": [
    "# from keras.callbacks import ModelCheckpoint\n",
    "# from keras.callbacks import EarlyStopping\n",
    "# filepath=\"../working/best_model1.h5\"\n",
    "# checkpoint = ModelCheckpoint(filepath, monitor='val_accuracy', verbose=1, save_best_only=True, mode='max')\n",
    "# es = EarlyStopping(monitor='val_accuracy', mode='max', verbose=1, patience=50)\n",
    "# callbacks_list = [checkpoint,es]"
   ]
  },
  {
   "cell_type": "code",
   "execution_count": 9,
   "metadata": {
    "execution": {
     "iopub.status.busy": "2023-01-22T06:30:36.916925Z",
     "iopub.status.idle": "2023-01-22T06:30:36.917654Z"
    },
    "id": "cvxtI4fWyevF"
   },
   "outputs": [],
   "source": [
    "# model.compile(optimizer=keras.optimizers.Adam(learning_rate=0.00001),loss=keras.losses.categorical_crossentropy,metrics=['accuracy'])"
   ]
  },
  {
   "cell_type": "code",
   "execution_count": 10,
   "metadata": {
    "execution": {
     "iopub.status.busy": "2023-01-22T06:30:36.925774Z",
     "iopub.status.idle": "2023-01-22T06:30:36.926405Z"
    },
    "id": "WDXJ-23Ey561",
    "outputId": "51fce0ec-0cdf-4c34-f013-ea6057637e8b"
   },
   "outputs": [],
   "source": [
    "# hist = model.fit_generator(generator=train_data,epochs=100,validation_data=test_data,callbacks=callbacks_list)"
   ]
  },
  {
   "cell_type": "code",
   "execution_count": 13,
   "metadata": {
    "execution": {
     "iopub.execute_input": "2023-01-22T06:43:15.954018Z",
     "iopub.status.busy": "2023-01-22T06:43:15.953663Z",
     "iopub.status.idle": "2023-01-22T06:51:23.527425Z",
     "shell.execute_reply": "2023-01-22T06:51:23.526567Z",
     "shell.execute_reply.started": "2023-01-22T06:43:15.953985Z"
    },
    "scrolled": true
   },
   "outputs": [
    {
     "name": "stdout",
     "output_type": "stream",
     "text": [
      "(None, 56, 56, 96)\n",
      "(None, 56, 5376)\n",
      "(None, 56, 128)\n"
     ]
    },
    {
     "name": "stderr",
     "output_type": "stream",
     "text": [
      "C:\\ProgramData\\Anaconda3\\envs\\py37gpu\\lib\\site-packages\\keras\\optimizers\\optimizer_v2\\adam.py:114: UserWarning: The `lr` argument is deprecated, use `learning_rate` instead.\n",
      "  super().__init__(name, **kwargs)\n"
     ]
    },
    {
     "name": "stdout",
     "output_type": "stream",
     "text": [
      "Found 4000 images belonging to 5 classes.\n",
      "Found 200 images belonging to 5 classes.\n",
      "Epoch 1/60\n"
     ]
    },
    {
     "name": "stderr",
     "output_type": "stream",
     "text": [
      "C:\\ProgramData\\Anaconda3\\envs\\py37gpu\\lib\\site-packages\\ipykernel_launcher.py:95: UserWarning: `Model.fit_generator` is deprecated and will be removed in a future version. Please use `Model.fit`, which supports generators.\n"
     ]
    },
    {
     "name": "stdout",
     "output_type": "stream",
     "text": [
      "250/250 [==============================] - ETA: 0s - loss: 1.2468 - accuracy: 0.4815\n",
      "Epoch 1: val_accuracy improved from -inf to 0.20000, saving model to CWT//cwt_weights\\model_0_cwt_v2_awgn_trial.h5\n",
      "250/250 [==============================] - 38s 108ms/step - loss: 1.2468 - accuracy: 0.4815 - val_loss: 1.7808 - val_accuracy: 0.2000\n",
      "Epoch 2/60\n",
      "250/250 [==============================] - ETA: 0s - loss: 0.6220 - accuracy: 0.7703\n",
      "Epoch 2: val_accuracy improved from 0.20000 to 0.82500, saving model to CWT//cwt_weights\\model_0_cwt_v2_awgn_trial.h5\n",
      "250/250 [==============================] - 25s 100ms/step - loss: 0.6220 - accuracy: 0.7703 - val_loss: 0.5568 - val_accuracy: 0.8250\n",
      "Epoch 3/60\n",
      "250/250 [==============================] - ETA: 0s - loss: 0.4276 - accuracy: 0.8403\n",
      "Epoch 3: val_accuracy improved from 0.82500 to 0.95500, saving model to CWT//cwt_weights\\model_0_cwt_v2_awgn_trial.h5\n",
      "250/250 [==============================] - 25s 99ms/step - loss: 0.4276 - accuracy: 0.8403 - val_loss: 0.2340 - val_accuracy: 0.9550\n",
      "Epoch 4/60\n",
      "250/250 [==============================] - ETA: 0s - loss: 0.3357 - accuracy: 0.8745\n",
      "Epoch 4: val_accuracy did not improve from 0.95500\n",
      "250/250 [==============================] - 25s 99ms/step - loss: 0.3357 - accuracy: 0.8745 - val_loss: 0.2132 - val_accuracy: 0.9450\n",
      "Epoch 5/60\n",
      "250/250 [==============================] - ETA: 0s - loss: 0.2625 - accuracy: 0.9068\n",
      "Epoch 5: val_accuracy did not improve from 0.95500\n",
      "250/250 [==============================] - 25s 98ms/step - loss: 0.2625 - accuracy: 0.9068 - val_loss: 0.2098 - val_accuracy: 0.9500\n",
      "Epoch 6/60\n",
      "250/250 [==============================] - ETA: 0s - loss: 0.1676 - accuracy: 0.9445\n",
      "Epoch 6: val_accuracy did not improve from 0.95500\n",
      "250/250 [==============================] - 25s 99ms/step - loss: 0.1676 - accuracy: 0.9445 - val_loss: 0.2346 - val_accuracy: 0.9450\n",
      "Epoch 7/60\n",
      "250/250 [==============================] - ETA: 0s - loss: 0.1214 - accuracy: 0.9560\n",
      "Epoch 7: val_accuracy did not improve from 0.95500\n",
      "250/250 [==============================] - 25s 99ms/step - loss: 0.1214 - accuracy: 0.9560 - val_loss: 0.2771 - val_accuracy: 0.9500\n",
      "Epoch 8/60\n",
      "250/250 [==============================] - ETA: 0s - loss: 0.0675 - accuracy: 0.9770\n",
      "Epoch 8: val_accuracy did not improve from 0.95500\n",
      "250/250 [==============================] - 25s 99ms/step - loss: 0.0675 - accuracy: 0.9770 - val_loss: 0.2043 - val_accuracy: 0.9450\n",
      "Epoch 9/60\n",
      "250/250 [==============================] - ETA: 0s - loss: 0.0454 - accuracy: 0.9852\n",
      "Epoch 9: val_accuracy did not improve from 0.95500\n",
      "250/250 [==============================] - 25s 98ms/step - loss: 0.0454 - accuracy: 0.9852 - val_loss: 0.2782 - val_accuracy: 0.9450\n",
      "Epoch 10/60\n",
      "250/250 [==============================] - ETA: 0s - loss: 0.0542 - accuracy: 0.9810\n",
      "Epoch 10: val_accuracy improved from 0.95500 to 0.96000, saving model to CWT//cwt_weights\\model_0_cwt_v2_awgn_trial.h5\n",
      "250/250 [==============================] - 25s 100ms/step - loss: 0.0542 - accuracy: 0.9810 - val_loss: 0.2243 - val_accuracy: 0.9600\n",
      "Epoch 11/60\n",
      "250/250 [==============================] - ETA: 0s - loss: 0.0642 - accuracy: 0.9775\n",
      "Epoch 11: val_accuracy did not improve from 0.96000\n",
      "250/250 [==============================] - 24s 98ms/step - loss: 0.0642 - accuracy: 0.9775 - val_loss: 0.2566 - val_accuracy: 0.9450\n",
      "Epoch 12/60\n",
      "250/250 [==============================] - ETA: 0s - loss: 0.0223 - accuracy: 0.9935\n",
      "Epoch 12: val_accuracy did not improve from 0.96000\n",
      "250/250 [==============================] - 24s 96ms/step - loss: 0.0223 - accuracy: 0.9935 - val_loss: 0.2344 - val_accuracy: 0.9600\n",
      "Epoch 13/60\n",
      "250/250 [==============================] - ETA: 0s - loss: 0.0422 - accuracy: 0.9855\n",
      "Epoch 13: val_accuracy improved from 0.96000 to 0.97500, saving model to CWT//cwt_weights\\model_0_cwt_v2_awgn_trial.h5\n",
      "250/250 [==============================] - 25s 98ms/step - loss: 0.0422 - accuracy: 0.9855 - val_loss: 0.1782 - val_accuracy: 0.9750\n",
      "Epoch 14/60\n",
      "250/250 [==============================] - ETA: 0s - loss: 0.0600 - accuracy: 0.9793\n",
      "Epoch 14: val_accuracy did not improve from 0.97500\n",
      "250/250 [==============================] - 24s 98ms/step - loss: 0.0600 - accuracy: 0.9793 - val_loss: 0.2505 - val_accuracy: 0.9400\n",
      "Epoch 15/60\n",
      "250/250 [==============================] - ETA: 0s - loss: 0.0309 - accuracy: 0.9895\n",
      "Epoch 15: val_accuracy did not improve from 0.97500\n",
      "250/250 [==============================] - 24s 96ms/step - loss: 0.0309 - accuracy: 0.9895 - val_loss: 0.1898 - val_accuracy: 0.9600\n",
      "Epoch 16/60\n",
      "250/250 [==============================] - ETA: 0s - loss: 0.0232 - accuracy: 0.9920\n",
      "Epoch 16: val_accuracy did not improve from 0.97500\n",
      "250/250 [==============================] - 25s 98ms/step - loss: 0.0232 - accuracy: 0.9920 - val_loss: 0.1878 - val_accuracy: 0.9650\n",
      "Epoch 17/60\n",
      "250/250 [==============================] - ETA: 0s - loss: 0.0066 - accuracy: 0.9990\n",
      "Epoch 17: val_accuracy did not improve from 0.97500\n",
      "250/250 [==============================] - 24s 98ms/step - loss: 0.0066 - accuracy: 0.9990 - val_loss: 0.2069 - val_accuracy: 0.9550\n",
      "Epoch 18/60\n",
      "250/250 [==============================] - ETA: 0s - loss: 0.0035 - accuracy: 0.9990\n",
      "Epoch 18: val_accuracy did not improve from 0.97500\n",
      "250/250 [==============================] - 25s 99ms/step - loss: 0.0035 - accuracy: 0.9990 - val_loss: 0.2030 - val_accuracy: 0.9500\n",
      "Epoch 19/60\n",
      "250/250 [==============================] - ETA: 0s - loss: 0.0043 - accuracy: 0.9990\n",
      "Epoch 19: val_accuracy did not improve from 0.97500\n",
      "250/250 [==============================] - 25s 99ms/step - loss: 0.0043 - accuracy: 0.9990 - val_loss: 0.1908 - val_accuracy: 0.9600\n",
      "Epoch 20/60\n",
      "250/250 [==============================] - ETA: 0s - loss: 0.0750 - accuracy: 0.9745\n",
      "Epoch 20: val_accuracy did not improve from 0.97500\n",
      "250/250 [==============================] - 24s 94ms/step - loss: 0.0750 - accuracy: 0.9745 - val_loss: 0.1638 - val_accuracy: 0.9700\n",
      "Epoch 21/60\n",
      "250/250 [==============================] - ETA: 0s - loss: 0.0650 - accuracy: 0.9768\n",
      "Epoch 21: val_accuracy did not improve from 0.97500\n",
      "250/250 [==============================] - 23s 92ms/step - loss: 0.0650 - accuracy: 0.9768 - val_loss: 0.1907 - val_accuracy: 0.9650\n",
      "Epoch 22/60\n",
      "250/250 [==============================] - ETA: 0s - loss: 0.0264 - accuracy: 0.9905\n",
      "Epoch 22: val_accuracy did not improve from 0.97500\n",
      "250/250 [==============================] - 23s 92ms/step - loss: 0.0264 - accuracy: 0.9905 - val_loss: 0.2238 - val_accuracy: 0.9650\n",
      "Epoch 23/60\n",
      "250/250 [==============================] - ETA: 0s - loss: 0.0092 - accuracy: 0.9975\n",
      "Epoch 23: val_accuracy did not improve from 0.97500\n",
      "250/250 [==============================] - 23s 93ms/step - loss: 0.0092 - accuracy: 0.9975 - val_loss: 0.2187 - val_accuracy: 0.9600\n",
      "Epoch 24/60\n",
      "250/250 [==============================] - ETA: 0s - loss: 0.0154 - accuracy: 0.9945\n",
      "Epoch 24: val_accuracy did not improve from 0.97500\n",
      "250/250 [==============================] - 24s 98ms/step - loss: 0.0154 - accuracy: 0.9945 - val_loss: 0.2650 - val_accuracy: 0.9650\n",
      "Epoch 25/60\n",
      "250/250 [==============================] - ETA: 0s - loss: 0.0079 - accuracy: 0.9975\n",
      "Epoch 25: val_accuracy did not improve from 0.97500\n",
      "250/250 [==============================] - 24s 97ms/step - loss: 0.0079 - accuracy: 0.9975 - val_loss: 0.1976 - val_accuracy: 0.9700\n",
      "Epoch 26/60\n",
      "250/250 [==============================] - ETA: 0s - loss: 0.0013 - accuracy: 1.0000\n",
      "Epoch 26: val_accuracy did not improve from 0.97500\n",
      "250/250 [==============================] - 24s 97ms/step - loss: 0.0013 - accuracy: 1.0000 - val_loss: 0.1586 - val_accuracy: 0.9650\n",
      "Epoch 27/60\n",
      "250/250 [==============================] - ETA: 0s - loss: 4.6944e-04 - accuracy: 1.0000\n",
      "Epoch 27: val_accuracy did not improve from 0.97500\n",
      "250/250 [==============================] - 24s 95ms/step - loss: 4.6944e-04 - accuracy: 1.0000 - val_loss: 0.1613 - val_accuracy: 0.9750\n",
      "Epoch 28/60\n",
      "250/250 [==============================] - ETA: 0s - loss: 3.7834e-04 - accuracy: 1.0000\n",
      "Epoch 28: val_accuracy did not improve from 0.97500\n",
      "250/250 [==============================] - 24s 96ms/step - loss: 3.7834e-04 - accuracy: 1.0000 - val_loss: 0.1709 - val_accuracy: 0.9750\n"
     ]
    },
    {
     "name": "stdout",
     "output_type": "stream",
     "text": [
      "Epoch 29/60\n",
      "250/250 [==============================] - ETA: 0s - loss: 2.4578e-04 - accuracy: 1.0000\n",
      "Epoch 29: val_accuracy did not improve from 0.97500\n",
      "250/250 [==============================] - 23s 94ms/step - loss: 2.4578e-04 - accuracy: 1.0000 - val_loss: 0.1820 - val_accuracy: 0.9750\n",
      "Epoch 30/60\n",
      "250/250 [==============================] - ETA: 0s - loss: 1.4080e-04 - accuracy: 1.0000\n",
      "Epoch 30: val_accuracy did not improve from 0.97500\n",
      "250/250 [==============================] - 24s 96ms/step - loss: 1.4080e-04 - accuracy: 1.0000 - val_loss: 0.1851 - val_accuracy: 0.9750\n",
      "Epoch 31/60\n",
      "250/250 [==============================] - ETA: 0s - loss: 1.3943e-04 - accuracy: 1.0000\n",
      "Epoch 31: val_accuracy did not improve from 0.97500\n",
      "250/250 [==============================] - 25s 99ms/step - loss: 1.3943e-04 - accuracy: 1.0000 - val_loss: 0.1948 - val_accuracy: 0.9750\n",
      "Epoch 32/60\n",
      "250/250 [==============================] - ETA: 0s - loss: 1.2021e-04 - accuracy: 1.0000\n",
      "Epoch 32: val_accuracy did not improve from 0.97500\n",
      "250/250 [==============================] - 25s 98ms/step - loss: 1.2021e-04 - accuracy: 1.0000 - val_loss: 0.1955 - val_accuracy: 0.9750\n",
      "Epoch 33/60\n",
      "250/250 [==============================] - ETA: 0s - loss: 8.8281e-05 - accuracy: 1.0000\n",
      "Epoch 33: val_accuracy did not improve from 0.97500\n",
      "250/250 [==============================] - 24s 97ms/step - loss: 8.8281e-05 - accuracy: 1.0000 - val_loss: 0.1966 - val_accuracy: 0.9750\n",
      "Epoch 33: early stopping\n"
     ]
    }
   ],
   "source": [
    "train_loc = 'CWT\\\\train_4000'\n",
    "test_loc = 'CWT\\\\clean\\\\test'\n",
    "inputShape = Input((224,224, 3))  # base on Tensorflow backend\n",
    "conv_1 = Conv2D(64, (3, 3), activation='relu', padding='same')(inputShape)\n",
    "x_inputi = BatchNormalization()(conv_1)\n",
    "conv_2 = Conv2D(64, (3, 3), activation='relu', padding='same')(x_inputi)\n",
    "conv_3 = Conv2D(64, (3, 3), activation='relu', padding='same')(conv_2)\n",
    "batchnorm_3 = BatchNormalization()(conv_3)\n",
    "x_inputi= MaxPooling2D(pool_size=(2, 2))(batchnorm_3)\n",
    "conv_4 = Conv2D(64, (3, 3), activation='relu', padding='same')(x_inputi)\n",
    "conv_5 = Conv2D(96, (5, 5), activation='relu', padding='same')(conv_4)\n",
    "batchnorm_5 = BatchNormalization()(conv_5)\n",
    "x_inputi= MaxPooling2D(pool_size=(2, 2))(batchnorm_5)\n",
    "x_in1i = Conv2D(filters = int(x_inputi.shape[-1]//4), kernel_size = (1,1), strides = (1,1), padding = 'valid', activation = 'relu')(x_inputi)\n",
    "x_in1i=BatchNormalization()(x_in1i)\n",
    "x_in2i = Conv2D(filters = int(x_inputi.shape[-1]//2), kernel_size = (1,1), strides = (1,1), padding = 'valid', activation = 'relu')(x_in1i)\n",
    "x_in2i=BatchNormalization()(x_in2i)\n",
    "x_in3i = Conv2D(filters = int(x_inputi.shape[-1]//2), kernel_size = (3,3), strides = (1,1), padding = 'same', activation = 'relu')(x_in1i)\n",
    "x_in3i=BatchNormalization()(x_in3i)\n",
    "out = Concatenate() ([x_in2i, x_in3i])\n",
    "conv_6 = Conv2D(96, (5, 5), activation='relu', padding='same')(out)\n",
    "conv_7 = Conv2D(96, (5, 5), activation='relu', padding='same')(conv_6)\n",
    "batchnorm_7 = BatchNormalization()(conv_7)\n",
    "#pool_5 = MaxPooling2D(pool_size=(2, 2))(batchnorm_7)\n",
    "bn_shape = batchnorm_7.get_shape()\n",
    "print(bn_shape)  # (?, 50, 7, 512)\n",
    "\n",
    "# reshape to (batch_size, width, height*dim)\n",
    "# x_reshape = Reshape(target_shape=(int(bn_shape[1]), int(bn_shape[2] * bn_shape[3])))(stn_7)\n",
    "x_reshape = Reshape(target_shape=(int(bn_shape[1]), int(bn_shape[2] * bn_shape[3])))(batchnorm_7)\n",
    "\n",
    "fc_1 = Dense(128, activation='relu')(x_reshape)  # (?, 50, 128)\n",
    "\n",
    "print(x_reshape.get_shape())  # (?, 50, 3584)\n",
    "print(fc_1.get_shape())  # (?, 50, 128)\n",
    "\n",
    "rnn_1 = LSTM(32, kernel_initializer=\"he_normal\", return_sequences=True)(fc_1)\n",
    "rnn_1b = LSTM(32, kernel_initializer=\"he_normal\", go_backwards=True, return_sequences=True)(fc_1)\n",
    "rnn1_merged = add([rnn_1, rnn_1b])\n",
    "\n",
    "rnn_2 = LSTM(32, kernel_initializer=\"he_normal\", return_sequences=True)(rnn1_merged)\n",
    "rnn_2b = LSTM(32, kernel_initializer=\"he_normal\", go_backwards=True, return_sequences=True)(rnn1_merged)\n",
    "rnn2_merged = concatenate([rnn_2, rnn_2b])\n",
    "\n",
    "drop_1 = Dropout(0.25)(rnn2_merged)\n",
    "classifier=Flatten()(drop_1)\n",
    "#fc_2 = Dense(512, kernel_initializer='he_normal', activation='relu')(classifier)\n",
    "fc_2 = Dense(256, kernel_initializer='he_normal', activation='relu')(classifier)\n",
    "fc_2 = Dense(128, kernel_initializer='he_normal', activation='relu')(classifier)\n",
    "fc_2 = Dense(64, kernel_initializer='he_normal', activation='relu')(fc_2)\n",
    "fc_2 = Dense(32, kernel_initializer='he_normal', activation='relu')(fc_2)\n",
    "fc_2 = Dense(16, kernel_initializer='he_normal', activation='relu')(fc_2)\n",
    "fc_2 = Dense(5, kernel_initializer='he_normal', activation='softmax')(fc_2)\n",
    "\n",
    "# model setting\n",
    "base_model = Model(inputs=inputShape, outputs=fc_2) \n",
    "adam = keras.optimizers.Adam(lr = 0.0001)\n",
    "base_model.compile(loss = 'categorical_crossentropy', optimizer = adam, metrics = ['accuracy'])\n",
    "trdata = ImageDataGenerator(rescale=1./255)\n",
    "traindata = trdata.flow_from_directory(directory=train_loc, target_size=(224,224),batch_size=16)\n",
    "tsdata = ImageDataGenerator(rescale=1./255)\n",
    "testdata = tsdata.flow_from_directory(directory=test_loc, target_size=(224,224),batch_size=16)\n",
    "from tensorflow.keras.callbacks import ModelCheckpoint, EarlyStopping\n",
    "\n",
    "# checkpoint1 = ModelCheckpoint(\"CWT//cwt_weights//model_0_cwt_v2_awgn.h5\", monitor='val_accuracy', verbose=1, \n",
    "#                              save_best_only=True, save_weights_only=False, mode='auto')\n",
    "\n",
    "\n",
    "# STEP_SIZE_TRAIN=traindata.n//traindata.batch_size\n",
    "# STEP_SIZE_VALID=testdata.n//testdata.batch_size\n",
    "# from collections import Counter\n",
    "# counter = Counter(traindata.classes)                       \n",
    "# max_val = float(max(counter.values()))   \n",
    "# class_weights = {class_id : max_val/num_images for class_id, num_images in counter.items()}\n",
    "# class_weights\n",
    "from keras.callbacks import EarlyStopping\n",
    "#early = EarlyStopping(monitor='val_accuracy', min_delta=0, patience=20, verbose=1, mode='auto')\n",
    "#checkpoint = ModelCheckpoint(\"working/best_model.h5\", monitor='val_accuracy', verbose=1, \n",
    "   #                          save_best_only=True, save_weights_only=False, mode='auto')\n",
    "# early = EarlyStopping(monitor='val_accuracy', min_delta=0, patience=20, verbose=1, mode='auto')\n",
    "# history = base_model.fit_generator(traindata,\n",
    "#                     epochs =60,\n",
    "#                     steps_per_epoch=STEP_SIZE_TRAIN,\n",
    "#                     class_weight=class_weights,\n",
    "#                     validation_data =testdata,\n",
    "#                     validation_steps=STEP_SIZE_VALID,\n",
    "#                     callbacks=[checkpoint1]\n",
    "#                     )\n",
    "\n",
    "filepath=\"CWT//cwt_weights//model_0_cwt_v2_awgn_trial.h5\"\n",
    "checkpoint = ModelCheckpoint(filepath, monitor='val_accuracy', verbose=1, save_best_only=True, mode='max')\n",
    "es = EarlyStopping(monitor='val_accuracy', mode='max', verbose=1, patience=20)\n",
    "callbacks_list = [checkpoint,es]\n",
    "base_model.compile(optimizer=keras.optimizers.Adam(learning_rate=0.0001),loss=keras.losses.categorical_crossentropy,metrics=['accuracy'])\n",
    "hist = base_model.fit_generator(epochs=60,generator=traindata,validation_data=testdata,callbacks=callbacks_list)"
   ]
  },
  {
   "cell_type": "code",
   "execution_count": 14,
   "metadata": {},
   "outputs": [],
   "source": [
    "model = keras.models.load_model(\"CWT//cwt_weights//model_0_cwt_v2_awgn_trial.h5\")"
   ]
  },
  {
   "cell_type": "code",
   "execution_count": 17,
   "metadata": {},
   "outputs": [],
   "source": [
    "hisDF=pd.DataFrame(hist.history)\n",
    "hisDF.to_csv('CWT//history_model_0_cwt_v2_trial.csv')"
   ]
  },
  {
   "cell_type": "code",
   "execution_count": 18,
   "metadata": {},
   "outputs": [
    {
     "name": "stdout",
     "output_type": "stream",
     "text": [
      "Found 200 images belonging to 5 classes.\n",
      "Found 200 images belonging to 5 classes.\n",
      "Found 200 images belonging to 5 classes.\n",
      "Found 200 images belonging to 5 classes.\n",
      "Found 200 images belonging to 5 classes.\n"
     ]
    }
   ],
   "source": [
    "spec_test_path = 'CWT//clean//test//'\n",
    "spec_test_path1 = 'CWT//0dB//test//'\n",
    "spec_test_path2= 'CWT//5dB//test//'\n",
    "spec_test_path3= 'CWT//10dB//test//'\n",
    "spec_test_path4= 'CWT//15dB//test//'\n",
    "test_gen = ImageDataGenerator(rescale=1./255)\n",
    "test_gen1 = ImageDataGenerator(rescale=1./255)\n",
    "test_gen2 = ImageDataGenerator(rescale=1./255)\n",
    "test_gen3 = ImageDataGenerator(rescale=1./255)\n",
    "test_gen4 = ImageDataGenerator(rescale=1./255)\n",
    "test = test_gen.flow_from_directory(directory=spec_test_path,target_size=(224,224),batch_size=16,shuffle=False)\n",
    "test.reset()\n",
    "test1 = test_gen1.flow_from_directory(directory=spec_test_path1,target_size=(224,224),batch_size=16,shuffle=False)\n",
    "test1.reset()\n",
    "test2 = test_gen2.flow_from_directory(directory=spec_test_path2,target_size=(224,224),batch_size=16,shuffle=False)\n",
    "test2.reset()\n",
    "test3 = test_gen3.flow_from_directory(directory=spec_test_path3,target_size=(224,224),batch_size=16,shuffle=False)\n",
    "test3.reset()\n",
    "test4 = test_gen4.flow_from_directory(directory=spec_test_path4,target_size=(224,224),batch_size=16,shuffle=False)\n",
    "test4.reset()"
   ]
  },
  {
   "cell_type": "code",
   "execution_count": 19,
   "metadata": {},
   "outputs": [
    {
     "name": "stderr",
     "output_type": "stream",
     "text": [
      "C:\\ProgramData\\Anaconda3\\envs\\py37gpu\\lib\\site-packages\\ipykernel_launcher.py:1: UserWarning: `Model.evaluate_generator` is deprecated and will be removed in a future version. Please use `Model.evaluate`, which supports generators.\n",
      "  \"\"\"Entry point for launching an IPython kernel.\n"
     ]
    },
    {
     "name": "stdout",
     "output_type": "stream",
     "text": [
      "Accuracy clean=  0.9750000238418579\n"
     ]
    },
    {
     "name": "stderr",
     "output_type": "stream",
     "text": [
      "C:\\ProgramData\\Anaconda3\\envs\\py37gpu\\lib\\site-packages\\ipykernel_launcher.py:3: UserWarning: `Model.evaluate_generator` is deprecated and will be removed in a future version. Please use `Model.evaluate`, which supports generators.\n",
      "  This is separate from the ipykernel package so we can avoid doing imports until\n"
     ]
    },
    {
     "name": "stdout",
     "output_type": "stream",
     "text": [
      "Accuracy 0dB=  0.48500001430511475\n"
     ]
    },
    {
     "name": "stderr",
     "output_type": "stream",
     "text": [
      "C:\\ProgramData\\Anaconda3\\envs\\py37gpu\\lib\\site-packages\\ipykernel_launcher.py:5: UserWarning: `Model.evaluate_generator` is deprecated and will be removed in a future version. Please use `Model.evaluate`, which supports generators.\n",
      "  \"\"\"\n"
     ]
    },
    {
     "name": "stdout",
     "output_type": "stream",
     "text": [
      "Accuracy 5dB=  0.7350000143051147\n"
     ]
    },
    {
     "name": "stderr",
     "output_type": "stream",
     "text": [
      "C:\\ProgramData\\Anaconda3\\envs\\py37gpu\\lib\\site-packages\\ipykernel_launcher.py:7: UserWarning: `Model.evaluate_generator` is deprecated and will be removed in a future version. Please use `Model.evaluate`, which supports generators.\n",
      "  import sys\n"
     ]
    },
    {
     "name": "stdout",
     "output_type": "stream",
     "text": [
      "Accuracy 10dB=  0.8849999904632568\n"
     ]
    },
    {
     "name": "stderr",
     "output_type": "stream",
     "text": [
      "C:\\ProgramData\\Anaconda3\\envs\\py37gpu\\lib\\site-packages\\ipykernel_launcher.py:9: UserWarning: `Model.evaluate_generator` is deprecated and will be removed in a future version. Please use `Model.evaluate`, which supports generators.\n",
      "  if __name__ == \"__main__\":\n"
     ]
    },
    {
     "name": "stdout",
     "output_type": "stream",
     "text": [
      "Accuracy 15dB=  0.9350000023841858\n"
     ]
    }
   ],
   "source": [
    "scoreSeg = model.evaluate_generator(test)\n",
    "print(\"Accuracy clean= \",scoreSeg[1])\n",
    "scoreSeg = model.evaluate_generator(test1)\n",
    "print(\"Accuracy 0dB= \",scoreSeg[1])\n",
    "scoreSeg = model.evaluate_generator(test2)\n",
    "print(\"Accuracy 5dB= \",scoreSeg[1])\n",
    "scoreSeg = model.evaluate_generator(test3)\n",
    "print(\"Accuracy 10dB= \",scoreSeg[1])\n",
    "scoreSeg = model.evaluate_generator(test4)\n",
    "print(\"Accuracy 15dB= \",scoreSeg[1])"
   ]
  },
  {
   "cell_type": "markdown",
   "metadata": {},
   "source": [
    "spec_test_path = '../input/combined-v1/combined/val'"
   ]
  },
  {
   "cell_type": "code",
   "execution_count": null,
   "metadata": {
    "execution": {
     "iopub.execute_input": "2023-01-22T06:55:52.721311Z",
     "iopub.status.busy": "2023-01-22T06:55:52.720969Z",
     "iopub.status.idle": "2023-01-22T06:55:54.314916Z",
     "shell.execute_reply": "2023-01-22T06:55:54.313895Z",
     "shell.execute_reply.started": "2023-01-22T06:55:52.721278Z"
    }
   },
   "outputs": [],
   "source": [
    "model = keras.models.load_model(\"CWT//cwt_weights//best_model1_kutta_awgn.h5\")"
   ]
  },
  {
   "cell_type": "code",
   "execution_count": null,
   "metadata": {
    "execution": {
     "iopub.execute_input": "2023-01-22T06:55:55.216439Z",
     "iopub.status.busy": "2023-01-22T06:55:55.216085Z",
     "iopub.status.idle": "2023-01-22T06:55:57.939424Z",
     "shell.execute_reply": "2023-01-22T06:55:57.938638Z",
     "shell.execute_reply.started": "2023-01-22T06:55:55.216406Z"
    },
    "scrolled": true
   },
   "outputs": [],
   "source": [
    "scoreSeg = model.evaluate_generator(test)\n",
    "print(\"Accuracy = \",scoreSeg[1])\n"
   ]
  },
  {
   "cell_type": "code",
   "execution_count": null,
   "metadata": {},
   "outputs": [],
   "source": [
    "scoreSeg"
   ]
  },
  {
   "cell_type": "code",
   "execution_count": null,
   "metadata": {
    "execution": {
     "iopub.execute_input": "2023-01-22T06:56:15.081434Z",
     "iopub.status.busy": "2023-01-22T06:56:15.081140Z",
     "iopub.status.idle": "2023-01-22T06:56:15.087549Z",
     "shell.execute_reply": "2023-01-22T06:56:15.086233Z",
     "shell.execute_reply.started": "2023-01-22T06:56:15.081402Z"
    }
   },
   "outputs": [],
   "source": [
    "predicted_class_indices=np.argmax(scoreSeg[1],axis=1)"
   ]
  },
  {
   "cell_type": "code",
   "execution_count": null,
   "metadata": {
    "execution": {
     "iopub.execute_input": "2023-01-22T06:56:15.090367Z",
     "iopub.status.busy": "2023-01-22T06:56:15.089974Z",
     "iopub.status.idle": "2023-01-22T06:56:15.102869Z",
     "shell.execute_reply": "2023-01-22T06:56:15.101689Z",
     "shell.execute_reply.started": "2023-01-22T06:56:15.090314Z"
    }
   },
   "outputs": [],
   "source": [
    "predicted_class_indices"
   ]
  },
  {
   "cell_type": "code",
   "execution_count": null,
   "metadata": {
    "execution": {
     "iopub.execute_input": "2023-01-22T06:56:15.224175Z",
     "iopub.status.busy": "2023-01-22T06:56:15.223835Z",
     "iopub.status.idle": "2023-01-22T06:56:15.312883Z",
     "shell.execute_reply": "2023-01-22T06:56:15.311848Z",
     "shell.execute_reply.started": "2023-01-22T06:56:15.224142Z"
    }
   },
   "outputs": [],
   "source": [
    "\n",
    "from sklearn.metrics import classification_report, confusion_matrix\n",
    "\n",
    "print('Confusion Matrix')\n",
    "print(confusion_matrix(test.classes, predicted_class_indices))\n",
    "print('Classification Report')\n",
    "\n",
    "print(classification_report(test.classes, predicted_class_indices))#, target_names=target_names))"
   ]
  },
  {
   "cell_type": "code",
   "execution_count": null,
   "metadata": {
    "execution": {
     "iopub.execute_input": "2023-01-22T06:56:15.419588Z",
     "iopub.status.busy": "2023-01-22T06:56:15.419201Z",
     "iopub.status.idle": "2023-01-22T06:56:15.424046Z",
     "shell.execute_reply": "2023-01-22T06:56:15.422935Z",
     "shell.execute_reply.started": "2023-01-22T06:56:15.419554Z"
    }
   },
   "outputs": [],
   "source": [
    "import pandas as pd"
   ]
  },
  {
   "cell_type": "code",
   "execution_count": null,
   "metadata": {
    "execution": {
     "iopub.status.busy": "2023-01-22T06:41:07.224376Z",
     "iopub.status.idle": "2023-01-22T06:41:07.225322Z"
    }
   },
   "outputs": [],
   "source": [
    "cl = np.round(scoreSeg)\n",
    "\n",
    "filenames=test.filenames"
   ]
  },
  {
   "cell_type": "code",
   "execution_count": null,
   "metadata": {
    "execution": {
     "iopub.status.busy": "2023-01-22T06:41:07.227262Z",
     "iopub.status.idle": "2023-01-22T06:41:07.228243Z"
    }
   },
   "outputs": [],
   "source": [
    "results=pd.DataFrame({\"file\":filenames,\"pr\":pred[:,0], \"class\":cl[:,0]})"
   ]
  },
  {
   "cell_type": "code",
   "execution_count": null,
   "metadata": {
    "execution": {
     "iopub.status.busy": "2023-01-22T06:41:07.229593Z",
     "iopub.status.idle": "2023-01-22T06:41:07.230437Z"
    }
   },
   "outputs": [],
   "source": [
    "results"
   ]
  },
  {
   "cell_type": "code",
   "execution_count": null,
   "metadata": {
    "execution": {
     "iopub.status.busy": "2023-01-22T06:41:07.231719Z",
     "iopub.status.idle": "2023-01-22T06:41:07.232562Z"
    },
    "id": "if5bYj8DqyuC"
   },
   "outputs": [],
   "source": [
    "from IPython.display import FileLink\n",
    "FileLink(r'./weights.best.hdf5')"
   ]
  },
  {
   "cell_type": "code",
   "execution_count": null,
   "metadata": {},
   "outputs": [],
   "source": []
  },
  {
   "cell_type": "code",
   "execution_count": null,
   "metadata": {},
   "outputs": [],
   "source": []
  },
  {
   "cell_type": "code",
   "execution_count": null,
   "metadata": {},
   "outputs": [],
   "source": []
  }
 ],
 "metadata": {
  "kernelspec": {
   "display_name": "Python 3 (ipykernel)",
   "language": "python",
   "name": "python3"
  },
  "language_info": {
   "codemirror_mode": {
    "name": "ipython",
    "version": 3
   },
   "file_extension": ".py",
   "mimetype": "text/x-python",
   "name": "python",
   "nbconvert_exporter": "python",
   "pygments_lexer": "ipython3",
   "version": "3.7.15"
  }
 },
 "nbformat": 4,
 "nbformat_minor": 4
}
